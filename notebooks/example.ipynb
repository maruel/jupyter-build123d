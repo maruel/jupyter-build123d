{
 "cells": [
  {
   "cell_type": "code",
   "execution_count": null,
   "id": "3a285855-95e9-4cf6-8a49-0b241b300d9f",
   "metadata": {},
   "outputs": [],
   "source": [
    "# https://build123d.readthedocs.io/en/latest/index.html\n",
    "from build123d import *\n",
    "\n",
    "wall_thickness = 3 * MM\n",
    "fillet_radius = wall_thickness * 0.49\n",
    "\n",
    "with BuildPart() as tea_cup:\n",
    "    # Create the bowl of the cup as a revolved cross section\n",
    "    with BuildSketch(Plane.XZ) as bowl_section:\n",
    "        with BuildLine():\n",
    "            # Start & end points with control tangents\n",
    "            s = Spline(\n",
    "                (30 * MM, 10 * MM),\n",
    "                (69 * MM, 105 * MM),\n",
    "                tangents=((1, 0.5), (0.7, 1)),\n",
    "                tangent_scalars=(1.75, 1),\n",
    "            )\n",
    "            # Lines to finish creating ½ the bowl shape\n",
    "            Polyline(s @ 0, s @ 0 + (10 * MM, -10 * MM), (0, 0), (0, (s @ 1).Y), s @ 1)\n",
    "        make_face()  # Create a filled 2D shape\n",
    "    revolve(axis=Axis.Z)\n",
    "    # Hollow out the bowl with openings on the top and bottom\n",
    "    offset(amount=-wall_thickness, openings=tea_cup.faces().filter_by(GeomType.PLANE))\n",
    "    # Add a bottom to the bowl\n",
    "    with Locations((0, 0, (s @ 0).Y)):\n",
    "        Cylinder(radius=(s @ 0).X, height=wall_thickness)\n",
    "    # Smooth out all the edges\n",
    "    fillet(tea_cup.edges(), radius=fillet_radius)\n",
    "\n",
    "    # Determine where the handle contacts the bowl\n",
    "    handle_intersections = [\n",
    "        tea_cup.part.find_intersection(\n",
    "            Axis(origin=(0, 0, vertical_offset), direction=(1, 0, 0))\n",
    "        )[-1][0]\n",
    "        for vertical_offset in [35 * MM, 80 * MM]\n",
    "    ]\n",
    "    # Create a path for handle creation\n",
    "    with BuildLine(Plane.XZ) as handle_path:\n",
    "        path_spline = Spline(\n",
    "            handle_intersections[0] - (wall_thickness / 2, 0),\n",
    "            handle_intersections[0] + (35 * MM, 30 * MM),\n",
    "            handle_intersections[0] + (40 * MM, 60 * MM),\n",
    "            handle_intersections[1] - (wall_thickness / 2, 0),\n",
    "            tangents=((1, 1.25), (-0.2, -1)),\n",
    "        )\n",
    "    # Align the cross section to the beginning of the path\n",
    "    with BuildSketch(\n",
    "        Plane(origin=path_spline @ 0, z_dir=path_spline % 0)\n",
    "    ) as handle_cross_section:\n",
    "        RectangleRounded(wall_thickness, 8 * MM, fillet_radius)\n",
    "    sweep()  # Sweep handle cross section along path\n",
    "\n",
    "assert abs(tea_cup.part.volume - 130326) < 1\n",
    "\n",
    "# sadness\n",
    "display(tea_cup)"
   ]
  },
  {
   "cell_type": "code",
   "execution_count": null,
   "id": "b4b04e93-5d2f-4730-95a6-7989a7f4ac68",
   "metadata": {},
   "outputs": [],
   "source": []
  }
 ],
 "metadata": {
  "kernelspec": {
   "display_name": "Python 3 (ipykernel)",
   "language": "python",
   "name": "python3"
  },
  "language_info": {
   "codemirror_mode": {
    "name": "ipython",
    "version": 3
   },
   "file_extension": ".py",
   "mimetype": "text/x-python",
   "name": "python",
   "nbconvert_exporter": "python",
   "pygments_lexer": "ipython3",
   "version": "3.10.12"
  }
 },
 "nbformat": 4,
 "nbformat_minor": 5
}
